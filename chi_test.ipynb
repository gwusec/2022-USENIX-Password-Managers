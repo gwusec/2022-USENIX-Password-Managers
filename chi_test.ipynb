{
 "cells": [
  {
   "cell_type": "code",
   "execution_count": 1,
   "metadata": {
    "scrolled": true
   },
   "outputs": [],
   "source": [
    "# import relevant libraries and read in the data\n",
    "import pandas as pd\n",
    "import numpy as np\n",
    "import scipy\n",
    "import statsmodels\n",
    "from scipy import stats\n",
    "from scipy.stats import chi2_contingency\n",
    "from itertools import combinations\n",
    "from statsmodels.sandbox.stats.multicomp import multipletests\n",
    "df = pd.read_csv(\"data_cleaned.csv\", sep=';')\n",
    "df = df.iloc[1:282] # extract complete responses only"
   ]
  },
  {
   "cell_type": "code",
   "execution_count": 4,
   "metadata": {},
   "outputs": [
    {
     "name": "stdout",
     "output_type": "stream",
     "text": [
      "Reuse passwords:  211\n",
      "Do not reuse passwords:  61\n",
      "Unsure:  7\n"
     ]
    }
   ],
   "source": [
    "# count of general password reuse\n",
    "print(\"Reuse passwords: \", df[\"CB3\"].str.contains(r'Yes').sum())\n",
    "print(\"Do not reuse passwords: \", df[\"CB3\"].str.contains(r'No').sum())\n",
    "print(\"Unsure: \", df[\"CB3\"].str.contains(r'Unsure').sum())"
   ]
  },
  {
   "cell_type": "code",
   "execution_count": 5,
   "metadata": {},
   "outputs": [
    {
     "name": "stdout",
     "output_type": "stream",
     "text": [
      "Use third-party PM and reuse password:  25\n",
      "Use third-party PM and don't reuse password:  26\n",
      "Use third-party PM and unsure about reuse:  2\n"
     ]
    }
   ],
   "source": [
    "# password reuse for third-party PMs\n",
    "print(\"Use third-party PM and reuse password: \",((df[\"RB\"].str.contains(r'I used a third-party password manager')) & (df[\"CB3\"].str.contains(r'Yes'))).sum())\n",
    "print(\"Use third-party PM and don't reuse password: \", ((df[\"RB\"].str.contains(r'I used a third-party password manager')) & (df[\"CB3\"].str.contains(r'No'))).sum())\n",
    "print(\"Use third-party PM and unsure about reuse: \", ((df[\"RB\"].str.contains(r'I used a third-party password manager')) & (df[\"CB3\"].str.contains(r'Unsure'))).sum())"
   ]
  },
  {
   "cell_type": "code",
   "execution_count": 6,
   "metadata": {},
   "outputs": [
    {
     "name": "stdout",
     "output_type": "stream",
     "text": [
      "Remember passwords without recording them and reuse password:  158\n",
      "Remember passwords without recording them and don't reuse password:  32\n",
      "Remember passwords without recording them and unsure about reuse:  6\n"
     ]
    }
   ],
   "source": [
    "# password reuse for Remember passwords without recording them\n",
    "print(\"Remember passwords without recording them and reuse password: \",((df[\"RB\"].str.contains(r'I remembered my passwords without writing them down or storing them digitally')) & (df[\"CB3\"].str.contains(r'Yes'))).sum())\n",
    "print(\"Remember passwords without recording them and don't reuse password: \", ((df[\"RB\"].str.contains(r'I remembered my passwords without writing them down or storing them digitally')) & (df[\"CB3\"].str.contains(r'No'))).sum())\n",
    "print(\"Remember passwords without recording them and unsure about reuse: \", ((df[\"RB\"].str.contains(r'I remembered my passwords without writing them down or storing them digitally')) & (df[\"CB3\"].str.contains(r'Unsure'))).sum())"
   ]
  },
  {
   "cell_type": "code",
   "execution_count": 7,
   "metadata": {},
   "outputs": [
    {
     "name": "stdout",
     "output_type": "stream",
     "text": [
      "Save passwords in the browser and reuse password:  135\n",
      "Save passwords in the browser and don't reuse password:  22\n",
      "Save passwords in the browser and unsure about reuse:  3\n"
     ]
    }
   ],
   "source": [
    "# password reuse for Save passwords in the browser\n",
    "print(\"Save passwords in the browser and reuse password: \",((df[\"RB\"].str.contains(r'I saved my passwords in the browser')) & (df[\"CB3\"].str.contains(r'Yes'))).sum())\n",
    "print(\"Save passwords in the browser and don't reuse password: \", ((df[\"RB\"].str.contains(r'I saved my passwords in the browser')) & (df[\"CB3\"].str.contains(r'No'))).sum())\n",
    "print(\"Save passwords in the browser and unsure about reuse: \", ((df[\"RB\"].str.contains(r'I saved my passwords in the browser')) & (df[\"CB3\"].str.contains(r'Unsure'))).sum())"
   ]
  },
  {
   "cell_type": "code",
   "execution_count": 8,
   "metadata": {},
   "outputs": [
    {
     "name": "stdout",
     "output_type": "stream",
     "text": [
      "Store passwords in digital files and reuse password:  88\n",
      "Store passwords in digital files and don't reuse password:  19\n",
      "Store passwords in digital files and unsure about reuse:  2\n"
     ]
    }
   ],
   "source": [
    "# password reuse for Store passwords in digital files\n",
    "print(\"Store passwords in digital files and reuse password: \",((df[\"RB\"].str.contains(r'I stored my passwords in a digital file or files')) & (df[\"CB3\"].str.contains(r'Yes'))).sum())\n",
    "print(\"Store passwords in digital files and don't reuse password: \", ((df[\"RB\"].str.contains(r'I stored my passwords in a digital file or files')) & (df[\"CB3\"].str.contains(r'No'))).sum())\n",
    "print(\"Store passwords in digital files and unsure about reuse: \", ((df[\"RB\"].str.contains(r'I stored my passwords in a digital file or files')) & (df[\"CB3\"].str.contains(r'Unsure'))).sum())"
   ]
  },
  {
   "cell_type": "code",
   "execution_count": 9,
   "metadata": {},
   "outputs": [
    {
     "name": "stdout",
     "output_type": "stream",
     "text": [
      "Write passwords down and reuse password:  82\n",
      "Write passwords down and don't reuse password:  23\n",
      "Write passwords down and unsure about reuse:  3\n"
     ]
    }
   ],
   "source": [
    "# password reuse for Write passwords down\n",
    "print(\"Write passwords down and reuse password: \",((df[\"RB\"].str.contains(r'I wrote my passwords down on paper')) & (df[\"CB3\"].str.contains(r'Yes'))).sum())\n",
    "print(\"Write passwords down and don't reuse password: \", ((df[\"RB\"].str.contains(r'I wrote my passwords down on paper')) & (df[\"CB3\"].str.contains(r'No'))).sum())\n",
    "print(\"Write passwords down and unsure about reuse: \", ((df[\"RB\"].str.contains(r'I wrote my passwords down on paper')) & (df[\"CB3\"].str.contains(r'Unsure'))).sum())"
   ]
  },
  {
   "cell_type": "code",
   "execution_count": 10,
   "metadata": {},
   "outputs": [
    {
     "name": "stdout",
     "output_type": "stream",
     "text": [
      "Use a system-provided password manager and reuse password:  64\n",
      "Use a system-provided password manager and don't reuse password:  17\n",
      "Use a system-provided password manager and unsure about reuse:  2\n"
     ]
    }
   ],
   "source": [
    "# password reuse for Use a system-provided password manager\n",
    "print(\"Use a system-provided password manager and reuse password: \",((df[\"RB\"].str.contains(r'I used a system-provided password manager')) & (df[\"CB3\"].str.contains(r'Yes'))).sum())\n",
    "print(\"Use a system-provided password manager and don't reuse password: \", ((df[\"RB\"].str.contains(r'I used a system-provided password manager')) & (df[\"CB3\"].str.contains(r'No'))).sum())\n",
    "print(\"Use a system-provided password manager and unsure about reuse: \", ((df[\"RB\"].str.contains(r'I used a system-provided password manager')) & (df[\"CB3\"].str.contains(r'Unsure'))).sum())"
   ]
  },
  {
   "cell_type": "code",
   "execution_count": 11,
   "metadata": {},
   "outputs": [
    {
     "name": "stdout",
     "output_type": "stream",
     "text": [
      "Reset my password every time I log in and reuse password:  25\n",
      "Reset my password every time I log in and don't reuse password:  2\n",
      "Reset my password every time I log in and unsure about reuse:  0\n"
     ]
    }
   ],
   "source": [
    "# password reuse for Reset my password every time I log in\n",
    "print(\"Reset my password every time I log in and reuse password: \",((df[\"RB\"].str.contains(r'I reset my password every time I log in rather than remembering my password')) & (df[\"CB3\"].str.contains(r'Yes'))).sum())\n",
    "print(\"Reset my password every time I log in and don't reuse password: \", ((df[\"RB\"].str.contains(r'I reset my password every time I log in rather than remembering my password')) & (df[\"CB3\"].str.contains(r'No'))).sum())\n",
    "print(\"Reset my password every time I log in and unsure about reuse: \", ((df[\"RB\"].str.contains(r'I reset my password every time I log in rather than remembering my password')) & (df[\"CB3\"].str.contains(r'Unsure'))).sum())"
   ]
  },
  {
   "cell_type": "code",
   "execution_count": 12,
   "metadata": {},
   "outputs": [
    {
     "name": "stdout",
     "output_type": "stream",
     "text": [
      "None of the above and reuse password:  2\n",
      "None of the above and don't reuse password:  1\n",
      "None of the above and unsure about reuse:  0\n"
     ]
    }
   ],
   "source": [
    "# password reuse for None of the above\n",
    "print(\"None of the above and reuse password: \",((df[\"RB\"].str.contains(r'None of the above')) & (df[\"CB3\"].str.contains(r'Yes'))).sum())\n",
    "print(\"None of the above and don't reuse password: \", ((df[\"RB\"].str.contains(r'None of the above')) & (df[\"CB3\"].str.contains(r'No'))).sum())\n",
    "print(\"None of the above and unsure about reuse: \", ((df[\"RB\"].str.contains(r'None of the above')) & (df[\"CB3\"].str.contains(r'Unsure'))).sum())"
   ]
  },
  {
   "cell_type": "code",
   "execution_count": 2,
   "metadata": {},
   "outputs": [
    {
     "name": "stdout",
     "output_type": "stream",
     "text": [
      "===Chi2 Stat===(Password reuse is less prevalent with PMs)\n",
      "39.22263588628574\n",
      "===Degrees of Freedom===\n",
      "6\n",
      "===P-Value===\n",
      "6.473146701881613e-07\n",
      "===Contingency Table===\n",
      "[[152.84327323  37.15672677]\n",
      " [127.10124827  30.89875173]\n",
      " [ 86.07489598  20.92510402]\n",
      " [ 85.2704577   20.7295423 ]\n",
      " [ 65.96393897  16.03606103]\n",
      " [ 41.02635229   9.97364771]\n",
      " [ 21.71983356   5.28016644]]\n"
     ]
    }
   ],
   "source": [
    "# chi-square test for password reuse across techniques\n",
    "# the values below are from the values above\n",
    "remember = [158,32]\n",
    "browser = [136,22]\n",
    "digital = [88,19]\n",
    "write = [83,23]\n",
    "system = [65,17]\n",
    "third = [25,26]\n",
    "reset = [25,2]\n",
    "\n",
    "tech = np.array([remember, browser, digital, write, system, third, reset])\n",
    "chi2_stat, p_val, dof, ex = stats.chi2_contingency(tech)\n",
    "\n",
    "print(\"===Chi2 Stat===(Password reuse is less prevalent with PMs)\")\n",
    "print(chi2_stat)\n",
    "\n",
    "print(\"===Degrees of Freedom===\")\n",
    "print(dof)\n",
    "\n",
    "print(\"===P-Value===\")\n",
    "print(p_val)\n",
    "\n",
    "print(\"===Contingency Table===\")\n",
    "print(ex)"
   ]
  },
  {
   "cell_type": "code",
   "execution_count": 3,
   "metadata": {
    "scrolled": true
   },
   "outputs": [
    {
     "name": "stdout",
     "output_type": "stream",
     "text": [
      "Chi2 result of the contingency table: 39.22263588628574, p-value: 6.473146701881613e-07\n",
      "Chi2 result of the contingency table: 39.22263588628574, p-value: 6.473146701881613e-07\n",
      "Significance results:\n",
      "(0, 1): p_value: 0.548599; corrected: 0.678889 (ns) reject: False\n",
      "(0, 2): p_value: 0.967722; corrected: 1.000000 (ns) reject: False\n",
      "(0, 3): p_value: 0.382126; corrected: 0.617280 (ns) reject: False\n",
      "(0, 4): p_value: 0.552456; corrected: 0.678889 (ns) reject: False\n",
      "(0, 5): p_value: 0.000001; corrected: 0.000011 (****) reject: True\n",
      "(0, 6): p_value: 0.327543; corrected: 0.573200 (ns) reject: False\n",
      "(1, 2): p_value: 0.500651; corrected: 0.678889 (ns) reject: False\n",
      "(1, 3): p_value: 0.138949; corrected: 0.407767 (ns) reject: False\n",
      "(1, 4): p_value: 0.241449; corrected: 0.507044 (ns) reject: False\n",
      "(1, 5): p_value: 0.000000; corrected: 0.000003 (****) reject: True\n",
      "(1, 6): p_value: 0.534309; corrected: 0.678889 (ns) reject: False\n",
      "(2, 3): p_value: 0.581905; corrected: 0.678889 (ns) reject: False\n",
      "(2, 4): p_value: 0.741953; corrected: 0.820054 (ns) reject: False\n",
      "(2, 5): p_value: 0.000035; corrected: 0.000246 (****) reject: True\n",
      "(2, 6): p_value: 0.305036; corrected: 0.573200 (ns) reject: False\n",
      "(3, 4): p_value: 1.000000; corrected: 1.000000 (ns) reject: False\n",
      "(3, 5): p_value: 0.000424; corrected: 0.001782 (***) reject: True\n",
      "(3, 6): p_value: 0.155340; corrected: 0.407767 (ns) reject: False\n",
      "(4, 5): p_value: 0.000591; corrected: 0.002069 (***) reject: True\n",
      "(4, 6): p_value: 0.196894; corrected: 0.459420 (ns) reject: False\n",
      "(5, 6): p_value: 0.000359; corrected: 0.001782 (***) reject: True\n"
     ]
    }
   ],
   "source": [
    "# post-hoc analysis of password re-use for different techniques\n",
    "chi2, p, dof, ex = chi2_contingency(tech, correction=True)\n",
    "print(f\"Chi2 result of the contingency table: {chi2}, p-value: {p}\")\n",
    "\n",
    "df_tech = pd.DataFrame(tech)\n",
    "    \n",
    "def get_asterisks_for_pval(p_val):\n",
    "    \"\"\"Receives the p-value and returns asterisks string.\"\"\"\n",
    "    if p_val > 0.05:\n",
    "        p_text = \"ns\"  # above threshold => not significant\n",
    "    elif p_val < 1e-4:  \n",
    "        p_text = '****'\n",
    "    elif p_val < 1e-3:\n",
    "        p_text = '***'\n",
    "    elif p_val < 1e-2:\n",
    "        p_text = '**'\n",
    "    else:\n",
    "        p_text = '*'\n",
    "    \n",
    "    return p_text\n",
    "\n",
    "def chisq_and_posthoc_corrected(df):\n",
    "    \"\"\"Receives a dataframe and performs chi2 test and then post hoc.\n",
    "    Prints the p-values and corrected p-values (after FDR correction)\"\"\"\n",
    "    # start by running chi2 test on the matrix\n",
    "    chi2, p, dof, ex = chi2_contingency(df, correction=True)\n",
    "    print(f\"Chi2 result of the contingency table: {chi2}, p-value: {p}\")\n",
    "    \n",
    "    # post-hoc\n",
    "    all_combinations = list(combinations(df.index, 2))  # gathering all combinations for post-hoc chi2\n",
    "    p_vals = []\n",
    "    print(\"Significance results:\")\n",
    "    for comb in all_combinations:\n",
    "        new_df = df[(df.index == comb[0]) | (df.index == comb[1])]\n",
    "        chi2, p, dof, ex = chi2_contingency(new_df, correction=True)\n",
    "        p_vals.append(p)\n",
    "        # print(f\"For {comb}: {p}\")  # uncorrected\n",
    "\n",
    "    # checking significance\n",
    "    # correction for multiple testing\n",
    "    reject_list, corrected_p_vals = multipletests(p_vals, method='fdr_bh')[:2]\n",
    "    for p_val, corr_p_val, reject, comb in zip(p_vals, corrected_p_vals, reject_list, all_combinations):\n",
    "        print(f\"{comb}: p_value: {p_val:5f}; corrected: {corr_p_val:5f} ({get_asterisks_for_pval(p_val)}) reject: {reject}\")\n",
    "        \n",
    "        \n",
    "chisq_and_posthoc_corrected(df_tech)"
   ]
  },
  {
   "cell_type": "code",
   "execution_count": null,
   "metadata": {},
   "outputs": [],
   "source": []
  }
 ],
 "metadata": {
  "kernelspec": {
   "display_name": "Python 3 (ipykernel)",
   "language": "python",
   "name": "python3"
  },
  "language_info": {
   "codemirror_mode": {
    "name": "ipython",
    "version": 3
   },
   "file_extension": ".py",
   "mimetype": "text/x-python",
   "name": "python",
   "nbconvert_exporter": "python",
   "pygments_lexer": "ipython3",
   "version": "3.9.12"
  }
 },
 "nbformat": 4,
 "nbformat_minor": 4
}
